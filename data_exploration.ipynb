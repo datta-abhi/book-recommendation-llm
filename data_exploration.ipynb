{
 "cells": [
  {
   "cell_type": "code",
   "execution_count": 1,
   "metadata": {},
   "outputs": [],
   "source": [
    "# imports\n",
    "import numpy as np\n",
    "import pandas as pd\n",
    "import matplotlib.pyplot as plt\n",
    "import seaborn as sns"
   ]
  },
  {
   "cell_type": "markdown",
   "metadata": {},
   "source": [
    "## Loading Dataset"
   ]
  },
  {
   "cell_type": "code",
   "execution_count": 2,
   "metadata": {},
   "outputs": [],
   "source": [
    "books = pd.read_csv('books.csv')"
   ]
  },
  {
   "cell_type": "code",
   "execution_count": 3,
   "metadata": {},
   "outputs": [
    {
     "data": {
      "text/html": [
       "<div>\n",
       "<style scoped>\n",
       "    .dataframe tbody tr th:only-of-type {\n",
       "        vertical-align: middle;\n",
       "    }\n",
       "\n",
       "    .dataframe tbody tr th {\n",
       "        vertical-align: top;\n",
       "    }\n",
       "\n",
       "    .dataframe thead th {\n",
       "        text-align: right;\n",
       "    }\n",
       "</style>\n",
       "<table border=\"1\" class=\"dataframe\">\n",
       "  <thead>\n",
       "    <tr style=\"text-align: right;\">\n",
       "      <th></th>\n",
       "      <th>isbn13</th>\n",
       "      <th>isbn10</th>\n",
       "      <th>title</th>\n",
       "      <th>subtitle</th>\n",
       "      <th>authors</th>\n",
       "      <th>categories</th>\n",
       "      <th>thumbnail</th>\n",
       "      <th>description</th>\n",
       "      <th>published_year</th>\n",
       "      <th>average_rating</th>\n",
       "      <th>num_pages</th>\n",
       "      <th>ratings_count</th>\n",
       "    </tr>\n",
       "  </thead>\n",
       "  <tbody>\n",
       "    <tr>\n",
       "      <th>2556</th>\n",
       "      <td>9780425136980</td>\n",
       "      <td>0425136981</td>\n",
       "      <td>Shadow Fires</td>\n",
       "      <td>NaN</td>\n",
       "      <td>Dean Ray Koontz</td>\n",
       "      <td>Fiction</td>\n",
       "      <td>http://books.google.com/books/content?id=7XO7F...</td>\n",
       "      <td>After her husband's mangled corpse disappears ...</td>\n",
       "      <td>1987.0</td>\n",
       "      <td>3.78</td>\n",
       "      <td>528.0</td>\n",
       "      <td>9527.0</td>\n",
       "    </tr>\n",
       "    <tr>\n",
       "      <th>3395</th>\n",
       "      <td>9780552998819</td>\n",
       "      <td>0552998818</td>\n",
       "      <td>Sure of You</td>\n",
       "      <td>NaN</td>\n",
       "      <td>Armistead Maupin</td>\n",
       "      <td>City and town life</td>\n",
       "      <td>http://books.google.com/books/content?id=oFsQQ...</td>\n",
       "      <td>____________________ Soon to be a Netflix seri...</td>\n",
       "      <td>1991.0</td>\n",
       "      <td>4.03</td>\n",
       "      <td>284.0</td>\n",
       "      <td>5370.0</td>\n",
       "    </tr>\n",
       "    <tr>\n",
       "      <th>2444</th>\n",
       "      <td>9780393963045</td>\n",
       "      <td>0393963047</td>\n",
       "      <td>The Foundations of Early Modern Europe, 1460-1559</td>\n",
       "      <td>NaN</td>\n",
       "      <td>Eugene F. Rice;Anthony Grafton</td>\n",
       "      <td>History</td>\n",
       "      <td>http://books.google.com/books/content?id=W_-kQ...</td>\n",
       "      <td>This synthesis of Europe's Renaissance and Ref...</td>\n",
       "      <td>1994.0</td>\n",
       "      <td>3.67</td>\n",
       "      <td>218.0</td>\n",
       "      <td>169.0</td>\n",
       "    </tr>\n",
       "  </tbody>\n",
       "</table>\n",
       "</div>"
      ],
      "text/plain": [
       "             isbn13      isbn10  \\\n",
       "2556  9780425136980  0425136981   \n",
       "3395  9780552998819  0552998818   \n",
       "2444  9780393963045  0393963047   \n",
       "\n",
       "                                                  title subtitle  \\\n",
       "2556                                       Shadow Fires      NaN   \n",
       "3395                                        Sure of You      NaN   \n",
       "2444  The Foundations of Early Modern Europe, 1460-1559      NaN   \n",
       "\n",
       "                             authors          categories  \\\n",
       "2556                 Dean Ray Koontz             Fiction   \n",
       "3395                Armistead Maupin  City and town life   \n",
       "2444  Eugene F. Rice;Anthony Grafton             History   \n",
       "\n",
       "                                              thumbnail  \\\n",
       "2556  http://books.google.com/books/content?id=7XO7F...   \n",
       "3395  http://books.google.com/books/content?id=oFsQQ...   \n",
       "2444  http://books.google.com/books/content?id=W_-kQ...   \n",
       "\n",
       "                                            description  published_year  \\\n",
       "2556  After her husband's mangled corpse disappears ...          1987.0   \n",
       "3395  ____________________ Soon to be a Netflix seri...          1991.0   \n",
       "2444  This synthesis of Europe's Renaissance and Ref...          1994.0   \n",
       "\n",
       "      average_rating  num_pages  ratings_count  \n",
       "2556            3.78      528.0         9527.0  \n",
       "3395            4.03      284.0         5370.0  \n",
       "2444            3.67      218.0          169.0  "
      ]
     },
     "execution_count": 3,
     "metadata": {},
     "output_type": "execute_result"
    }
   ],
   "source": [
    "books.sample(3)"
   ]
  },
  {
   "cell_type": "markdown",
   "metadata": {},
   "source": [
    "## Inspecting Missing Data"
   ]
  },
  {
   "cell_type": "code",
   "execution_count": 4,
   "metadata": {},
   "outputs": [
    {
     "data": {
      "text/plain": [
       "<Axes: >"
      ]
     },
     "execution_count": 4,
     "metadata": {},
     "output_type": "execute_result"
    },
    {
     "data": {
      "image/png": "[encoded data removed]",
      "text/plain": [
       "<Figure size 640x480 with 2 Axes>"
      ]
     },
     "metadata": {},
     "output_type": "display_data"
    }
   ],
   "source": [
    "ax = plt.axes()\n",
    "sns.heatmap(books.isna().T,annot=True,ax = ax)"
   ]
  },
  {
   "cell_type": "code",
   "execution_count": 5,
   "metadata": {},
   "outputs": [],
   "source": [
    "books['missing_descr'] = np.where(books['description'].isna(),1,0)\n",
    "books['old_wrt2025'] = 2025 - books['published_year']"
   ]
  },
  {
   "cell_type": "code",
   "execution_count": 6,
   "metadata": {},
   "outputs": [
    {
     "data": {
      "text/plain": [
       "<Axes: >"
      ]
     },
     "execution_count": 6,
     "metadata": {},
     "output_type": "execute_result"
    },
    {
     "data": {
      "image/png": "[encoded data removed]",
      "text/plain": [
       "<Figure size 300x300 with 2 Axes>"
      ]
     },
     "metadata": {},
     "output_type": "display_data"
    }
   ],
   "source": [
    "columns_considered = ['num_pages','old_wrt2025','missing_descr','average_rating']\n",
    "\n",
    "corr_df = books[columns_considered].corr(method='spearman')\n",
    "plt.figure(figsize=(3,3))\n",
    "sns.heatmap(corr_df,annot = True,fmt = \".2f\",cmap = 'viridis')"
   ]
  },
  {
   "cell_type": "markdown",
   "metadata": {},
   "source": [
    "Observation: Missing description doesn't have correlation with old_wrt2025, or average rating or num_pages.  \n",
    "So we can drop books wo description without any bias creeping in."
   ]
  },
  {
   "cell_type": "code",
   "execution_count": 7,
   "metadata": {},
   "outputs": [],
   "source": [
    "# dropping books with any of description, num-pages, average rating and published year\n",
    "books = books.dropna(subset=['description','num_pages','average_rating','published_year'],how = 'any',axis = 0)"
   ]
  },
  {
   "cell_type": "markdown",
   "metadata": {},
   "source": [
    "## Unique categories of Books"
   ]
  },
  {
   "cell_type": "code",
   "execution_count": 8,
   "metadata": {},
   "outputs": [
    {
     "data": {
      "text/plain": [
       "categories\n",
       "Fiction                      2523\n",
       "Juvenile Fiction              534\n",
       "Biography & Autobiography     391\n",
       "History                       258\n",
       "Literary Criticism            164\n",
       "                             ... \n",
       "Butlers                         1\n",
       "Gardens                         1\n",
       "Assassins                       1\n",
       "Married people                  1\n",
       "Indic fiction (English)         1\n",
       "Name: count, Length: 531, dtype: int64"
      ]
     },
     "execution_count": 8,
     "metadata": {},
     "output_type": "execute_result"
    }
   ],
   "source": [
    "books['categories'].value_counts().sort_values(ascending=False)"
   ]
  },
  {
   "cell_type": "code",
   "execution_count": 9,
   "metadata": {},
   "outputs": [
    {
     "data": {
      "text/plain": [
       "531"
      ]
     },
     "execution_count": 9,
     "metadata": {},
     "output_type": "execute_result"
    }
   ],
   "source": [
    "books['categories'].nunique()"
   ]
  },
  {
   "cell_type": "markdown",
   "metadata": {},
   "source": [
    "We need to reduce the categories into reasonable number of buckets using LLM"
   ]
  },
  {
   "cell_type": "markdown",
   "metadata": {},
   "source": [
    "## Book Description"
   ]
  },
  {
   "cell_type": "code",
   "execution_count": 10,
   "metadata": {},
   "outputs": [],
   "source": [
    "books['descr_length'] = books['description'].str.split().str.len()"
   ]
  },
  {
   "cell_type": "code",
   "execution_count": 11,
   "metadata": {},
   "outputs": [
    {
     "data": {
      "text/plain": [
       "{0.01: 5.060000000000002,\n",
       " 0.05: 14.0,\n",
       " 0.25: 27.0,\n",
       " 0.5: 40.0,\n",
       " 0.75: 82.0,\n",
       " 0.95: 200.69999999999982,\n",
       " 0.99: 307.9399999999996}"
      ]
     },
     "execution_count": 11,
     "metadata": {},
     "output_type": "execute_result"
    }
   ],
   "source": [
    "percentiles = [1,5,25,50,75,95,99]\n",
    "percentile_values = books['descr_length'].quantile([p/100 for p in percentiles]).to_dict()\n",
    "percentile_values"
   ]
  },
  {
   "cell_type": "code",
   "execution_count": 12,
   "metadata": {},
   "outputs": [
    {
     "data": {
      "text/plain": [
       "2       Volume Two of Stephen Donaldson's acclaimed se...\n",
       "83      Tie your tongue in terrible knots as you try t...\n",
       "90      An epic narrative that takes a look at slavery...\n",
       "94      The title story in this collection of shorts n...\n",
       "111     Rabbit's schedule keeps him so busy his friend...\n",
       "                              ...                        \n",
       "6644    Twenty-one stories include \"The Turn of the Sc...\n",
       "6655    \"How truth commissions around the world are ch...\n",
       "6681    Presents a collection of short stories, includ...\n",
       "6730    Nineteen writers dig into the spaces between g...\n",
       "6767    Everything from the fingerprints of the gods t...\n",
       "Name: description, Length: 158, dtype: object"
      ]
     },
     "execution_count": 12,
     "metadata": {},
     "output_type": "execute_result"
    }
   ],
   "source": [
    "small_descr = books[books['descr_length'].between(14,15)]['description']\n",
    "small_descr"
   ]
  },
  {
   "cell_type": "code",
   "execution_count": 13,
   "metadata": {},
   "outputs": [],
   "source": [
    "books = books[books['descr_length']>=15]"
   ]
  },
  {
   "cell_type": "code",
   "execution_count": 14,
   "metadata": {},
   "outputs": [
    {
     "data": {
      "text/plain": [
       "(6144, 15)"
      ]
     },
     "execution_count": 14,
     "metadata": {},
     "output_type": "execute_result"
    }
   ],
   "source": [
    "books.shape"
   ]
  },
  {
   "cell_type": "markdown",
   "metadata": {},
   "source": [
    "## Pairing title and subtitle into single field"
   ]
  },
  {
   "cell_type": "code",
   "execution_count": 16,
   "metadata": {},
   "outputs": [
    {
     "name": "stdout",
     "output_type": "stream",
     "text": [
      "0\n",
      "3989\n"
     ]
    }
   ],
   "source": [
    "print(books['title'].isna().sum())\n",
    "print(books['subtitle'].isna().sum())\n"
   ]
  },
  {
   "cell_type": "code",
   "execution_count": 21,
   "metadata": {},
   "outputs": [],
   "source": [
    "# if subtitle doesn't exist keep it as title, else using agg over string keep title: subtitle\n",
    "books['title_subtitle'] = np.where(books['subtitle'].isna(),books['title'],\n",
    "                                   books[['title','subtitle']].astype(str).agg(\": \".join,axis = 1))"
   ]
  },
  {
   "cell_type": "code",
   "execution_count": 22,
   "metadata": {},
   "outputs": [
    {
     "data": {
      "text/plain": [
       "0                                                  Gilead\n",
       "1                                   Spider's Web: A Novel\n",
       "3                                          Rage of angels\n",
       "4                                          The Four Loves\n",
       "5                                     The Problem of Pain\n",
       "                              ...                        \n",
       "6803                                  Journey to the East\n",
       "6804    The Monk Who Sold His Ferrari: A Fable About F...\n",
       "6805       I Am that: Talks with Sri Nisargadatta Maharaj\n",
       "6808                             The Berlin Phenomenology\n",
       "6809    'I'm Telling You Stories': Jeanette Winterson ...\n",
       "Name: title_subtitle, Length: 6144, dtype: object"
      ]
     },
     "execution_count": 22,
     "metadata": {},
     "output_type": "execute_result"
    }
   ],
   "source": [
    "books['title_subtitle']"
   ]
  },
  {
   "cell_type": "markdown",
   "metadata": {},
   "source": [
    "## Pairing isbn to description"
   ]
  },
  {
   "cell_type": "code",
   "execution_count": 23,
   "metadata": {},
   "outputs": [],
   "source": [
    "books['tagged_descr'] = books[['isbn13','description']].astype(str).agg(\": \".join,axis=1)"
   ]
  },
  {
   "cell_type": "markdown",
   "metadata": {},
   "source": [
    "## Dropping irrelevant columns and saving cleaned dataset"
   ]
  },
  {
   "cell_type": "code",
   "execution_count": 24,
   "metadata": {},
   "outputs": [
    {
     "data": {
      "text/plain": [
       "Index(['isbn13', 'isbn10', 'title', 'subtitle', 'authors', 'categories',\n",
       "       'thumbnail', 'description', 'published_year', 'average_rating',\n",
       "       'num_pages', 'ratings_count', 'missing_descr', 'old_wrt2025',\n",
       "       'descr_length', 'title_subtitle', 'tagged_descr'],\n",
       "      dtype='object')"
      ]
     },
     "execution_count": 24,
     "metadata": {},
     "output_type": "execute_result"
    }
   ],
   "source": [
    "books.columns"
   ]
  },
  {
   "cell_type": "code",
   "execution_count": 26,
   "metadata": {},
   "outputs": [],
   "source": [
    "books.drop(columns=['subtitle','missing_descr','old_wrt2025','descr_length'],inplace=True)\n",
    "books.to_csv('books_cleaned.csv',index=False)"
   ]
  },
  {
   "cell_type": "code",
   "execution_count": null,
   "metadata": {},
   "outputs": [],
   "source": []
  }
 ],
 "metadata": {
  "kernelspec": {
   "display_name": ".venv",
   "language": "python",
   "name": "python3"
  },
  "language_info": {
   "codemirror_mode": {
    "name": "ipython",
    "version": 3
   },
   "file_extension": ".py",
   "mimetype": "text/x-python",
   "name": "python",
   "nbconvert_exporter": "python",
   "pygments_lexer": "ipython3",
   "version": "3.10.2"
  }
 },
 "nbformat": 4,
 "nbformat_minor": 2
}
